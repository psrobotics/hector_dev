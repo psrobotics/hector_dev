{
 "cells": [
  {
   "cell_type": "code",
   "execution_count": 1,
   "id": "b1b422cd",
   "metadata": {},
   "outputs": [
    {
     "name": "stdout",
     "output_type": "stream",
     "text": [
      "jax_plugins entry points:\n",
      " • xla_cuda12 → jax_plugins.xla_cuda12\n",
      "[OK] Loaded xla_cuda12 (jax_plugins.xla_cuda12)\n",
      "[OK] initialize() ran for xla_cuda12\n"
     ]
    }
   ],
   "source": [
    "import importlib.metadata as md\n",
    "\n",
    "eps = md.entry_points()\n",
    "jax_eps = list(eps.select(group=\"jax_plugins\"))\n",
    "print(\"jax_plugins entry points:\")\n",
    "for ep in jax_eps:\n",
    "    print(\" •\", ep.name, \"→\", ep.value)\n",
    "\n",
    "# Try to load each plugin entry point explicitly\n",
    "for ep in jax_eps:\n",
    "    try:\n",
    "        mod = ep.load()\n",
    "        print(f\"[OK] Loaded {ep.name} ({ep.value})\")\n",
    "        if hasattr(mod, \"initialize\"):\n",
    "            mod.initialize()\n",
    "            print(f\"[OK] initialize() ran for {ep.name}\")\n",
    "    except Exception as e:\n",
    "        print(f\"[FAIL] {ep.name}: {e!r}\")\n"
   ]
  },
  {
   "cell_type": "markdown",
   "id": "43a1a742",
   "metadata": {},
   "source": [
    "uv pip install -U jax[\"cuda\"]==0.5.1\n",
    "Using Python 3.11.11 environment at: /home/ps/Documents/hector_dev/.venv\n",
    "Resolved 18 packages in 273ms\n",
    "Prepared 5 packages in 18.25s\n",
    "Uninstalled 5 packages in 57ms\n",
    "Installed 5 packages in 12ms\n",
    " - jax==0.6.1\n",
    " + jax==0.5.1\n",
    " - jax-cuda12-pjrt==0.6.1\n",
    " + jax-cuda12-pjrt==0.5.1\n",
    " - jax-cuda12-plugin==0.6.1\n",
    " + jax-cuda12-plugin==0.5.1\n",
    " - jaxlib==0.6.1\n",
    " + jaxlib==0.5.1\n",
    " - nvidia-cublas-cu12==12.8.4.1\n",
    " + nvidia-cublas-cu12==12.9.1.4\n"
   ]
  }
 ],
 "metadata": {
  "kernelspec": {
   "display_name": "hector_dev",
   "language": "python",
   "name": "python3"
  },
  "language_info": {
   "codemirror_mode": {
    "name": "ipython",
    "version": 3
   },
   "file_extension": ".py",
   "mimetype": "text/x-python",
   "name": "python",
   "nbconvert_exporter": "python",
   "pygments_lexer": "ipython3",
   "version": "3.11.11"
  }
 },
 "nbformat": 4,
 "nbformat_minor": 5
}
